{
 "cells": [
  {
   "cell_type": "code",
   "execution_count": null,
   "id": "627cffb6",
   "metadata": {},
   "outputs": [],
   "source": [
    "import numpy as np\n",
    "import pandas as pd\n",
    "import matplotlib.pyplot as plt\n",
    "\n",
    "from sklearn.preprocessing import PolynomialFeatures\n",
    "from deeptime.sindy import STLSQ\n",
    "from deeptime.sindy import SINDy\n",
    "import pysindy as ps\n"
   ]
  },
  {
   "cell_type": "code",
   "execution_count": null,
   "id": "9da6facc",
   "metadata": {},
   "outputs": [],
   "source": [
    "stocks_cumprod = (1.0 + X_train_df).T.cumprod()\n",
    "time = np.arange(X_train_df.shape[1])\n",
    "nstocks = 2\n",
    "features = [f'x_{i+1}' for i in range(nstocks)]\n",
    "X_data = stocks_cumprod.values[:,0:nstocks] # X_train_df.values.T"
   ]
  },
  {
   "cell_type": "code",
   "execution_count": null,
   "id": "d7169da7",
   "metadata": {},
   "outputs": [],
   "source": [
    "differentiation_method = ps.FiniteDifference(order=2)\n",
    "lib_poly = ps.PolynomialLibrary(degree=3)\n",
    "lib_fourier = ps.FourierLibrary()\n",
    "lib_concat = lib_poly + lib_fourier + lib_poly*lib_fourier # ps.ConcatLibrary([lib_poly, lib_fourier])\n",
    "optimizer = ps.STLSQ(threshold=0.001)"
   ]
  },
  {
   "cell_type": "code",
   "execution_count": null,
   "id": "8b1eb9c6",
   "metadata": {},
   "outputs": [],
   "source": [
    "testing = lib_concat.fit_transform(X_data)"
   ]
  },
  {
   "cell_type": "code",
   "execution_count": null,
   "id": "003d3ef3",
   "metadata": {},
   "outputs": [],
   "source": [
    "model = ps.SINDy(\n",
    "    differentiation_method=differentiation_method,\n",
    "    feature_library=lib_concat,\n",
    "    optimizer=optimizer,\n",
    "    feature_names=features,\n",
    ")"
   ]
  },
  {
   "cell_type": "code",
   "execution_count": null,
   "id": "453b23df",
   "metadata": {},
   "outputs": [],
   "source": [
    "# model = ps.SINDy(feature_names=features)\n",
    "# model.fit(X_data, t=1.0)\n",
    "\n",
    "# sim = model.simulate(np.ones(nstocks), t=time)\n",
    "\n",
    "# index = 1\n",
    "# plt.figure()\n",
    "# plt.plot(time, X_data[:, index], label='data', lw=0.2)\n",
    "# plt.plot(time, sim[:, index], label='function')\n",
    "# plt.legend()\n",
    "# plt.show()"
   ]
  },
  {
   "cell_type": "markdown",
   "id": "b7d3808e",
   "metadata": {},
   "source": [
    "## SINDy from deeptime"
   ]
  },
  {
   "cell_type": "code",
   "execution_count": null,
   "id": "0990c77f",
   "metadata": {},
   "outputs": [],
   "source": [
    "library = PolynomialFeatures(degree=4)\n",
    "optimizer = STLSQ(threshold=0.001, alpha=0.01)\n",
    "\n",
    "\n",
    "# Instantiate the estimator\n",
    "estimator = SINDy(\n",
    "    library=library,\n",
    "    optimizer=optimizer,\n",
    "    input_features=features  # The feature names are just for printing\n",
    ")\n",
    "\n",
    "# Fit the estimator to data\n",
    "estimator.fit(X_data, t=time);\n",
    "\n",
    "model = estimator.fetch_model();\n",
    "\n",
    "# model.print()\n",
    "\n",
    "# t_test = time\n",
    "# sim = model.simulate(X_data[0], t=t_test)\n",
    "# sim = model.simulate(np.ones(50), t=t_test)\n",
    "\n",
    "# index = 0\n",
    "# plt.figure()\n",
    "# plt.plot(t_test, X_data[:, index], label='x1 (true)', lw=0.2)\n",
    "# plt.plot(t_test, sim[:, index], label='x1')\n",
    "# plt.legend()\n",
    "# plt.show()"
   ]
  }
 ],
 "metadata": {
  "kernelspec": {
   "display_name": "base",
   "language": "python",
   "name": "python3"
  },
  "language_info": {
   "name": "python",
   "version": "3.9.18"
  }
 },
 "nbformat": 4,
 "nbformat_minor": 5
}
